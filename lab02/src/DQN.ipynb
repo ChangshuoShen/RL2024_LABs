{
 "cells": [
  {
   "cell_type": "markdown",
   "metadata": {},
   "source": [
    "## DQN"
   ]
  },
  {
   "cell_type": "code",
   "execution_count": 44,
   "metadata": {},
   "outputs": [],
   "source": [
    "import sys\n",
    "import os\n",
    "project_root = os.popen('pwd').read().strip()\n",
    "sys.path.append(project_root)"
   ]
  },
  {
   "cell_type": "code",
   "execution_count": 45,
   "metadata": {},
   "outputs": [],
   "source": [
    "import torch\n",
    "import gymnasium as gym\n",
    "from model import DQN, Data\n",
    "from const import *\n",
    "from utils import set_random_seed\n",
    "from torch.utils.tensorboard import SummaryWriter\n",
    "from tqdm import tqdm  # 引入 tqdm 进度条\n",
    "import numpy as np\n",
    "import csv"
   ]
  },
  {
   "cell_type": "code",
   "execution_count": 46,
   "metadata": {},
   "outputs": [],
   "source": [
    "SAVE_PATH_PREFIX = \"../log/dqn\"\n",
    "os.makedirs(SAVE_PATH_PREFIX, exist_ok=True); os.makedirs(f\"{SAVE_PATH_PREFIX}/ckpt\", exist_ok=True)\n",
    "\n",
    "\n",
    "def train_dqn(env_name, episodes, batch_size, epsilon, min_epsilon, decay_rate):\n",
    "    \"\"\"\n",
    "    使用 DQN 算法在指定环境中训练，并保存训练数据和模型\n",
    "    \"\"\"\n",
    "    # 创建环境\n",
    "    env = gym.make(env_name)\n",
    "    num_states = env.observation_space.shape[0]\n",
    "    num_actions = env.action_space.n\n",
    "\n",
    "    # 设置随机种子\n",
    "    set_random_seed(SEED)\n",
    "    \n",
    "    # 初始化 DQN 模型\n",
    "    dqn = DQN(num_states, num_actions, DEVICE, LR, GAMMA, MEMORY_CAPACITY)\n",
    "    writer = SummaryWriter(f'{SAVE_PATH_PREFIX}/{env_name}')  # TensorBoard SummaryWriter\n",
    "\n",
    "    reward_list = []  # 用于保存每幕的奖励\n",
    "\n",
    "    # 开始训练\n",
    "    for episode in tqdm(range(episodes), desc=f\"Training DQN on {env_name}\", unit=\"episode\"):\n",
    "        state, _ = env.reset(seed=SEED)  # 重置环境\n",
    "        total_reward = 0  # 每幕的总奖励\n",
    "\n",
    "        while True:\n",
    "            # epsilon-greedy 策略选择动作\n",
    "            action = dqn.choose_action(state, epsilon)\n",
    "\n",
    "            # 执行动作，获取下一个状态和奖励\n",
    "            next_state, reward, done, _, _ = env.step(action)\n",
    "\n",
    "            # 存储经验到经验池\n",
    "            dqn.memory.set(Data(state, action, reward, next_state, done))\n",
    "\n",
    "            # 累积奖励\n",
    "            total_reward += reward\n",
    "\n",
    "            # 开始学习\n",
    "            if len(dqn.memory.buffer) >= MIN_CAPACITY:\n",
    "                dqn.learn(batch_size)\n",
    "\n",
    "            # 幕结束\n",
    "            if done:\n",
    "                writer.add_scalar('Reward', total_reward, global_step=episode)\n",
    "                reward_list.append(total_reward)  # 记录奖励\n",
    "                break\n",
    "\n",
    "            # 更新状态\n",
    "            state = next_state\n",
    "\n",
    "        # 保存模型\n",
    "        if (episode + 1) % SAVING_ITERATION == 0:\n",
    "            dqn_path = f\"{SAVE_PATH_PREFIX}/ckpt/dqn_{env_name}_{episode + 1}.pth\"\n",
    "            torch.save(dqn.eval_net.state_dict(), dqn_path)\n",
    "            tqdm.write(f\"Saved model: {dqn_path}\")\n",
    "\n",
    "        # 更新 epsilon\n",
    "        epsilon = max(min_epsilon, epsilon * decay_rate)\n",
    "\n",
    "    # 保存奖励数据为 CSV 文件\n",
    "    csv_path = f\"{SAVE_PATH_PREFIX}/reward_{env_name}.csv\"\n",
    "    with open(csv_path, mode='w', newline='') as f:\n",
    "        csv_writer = csv.writer(f)  # 使用新的变量名 csv_writer\n",
    "        csv_writer.writerow([\"Episode\", \"Reward\"])\n",
    "        for i, reward in enumerate(reward_list):\n",
    "            csv_writer.writerow([i + 1, reward])\n",
    "    print(f\"Reward data saved to {csv_path}\")\n",
    "\n",
    "    env.close()\n",
    "    writer.close()  # 这里是 TensorBoard 的 SummaryWriter"
   ]
  },
  {
   "cell_type": "code",
   "execution_count": 47,
   "metadata": {},
   "outputs": [
    {
     "name": "stdout",
     "output_type": "stream",
     "text": [
      "model using device: cpu\n"
     ]
    },
    {
     "name": "stderr",
     "output_type": "stream",
     "text": [
      "Training DQN on CartPole-v1:  50%|█████     | 1000/2000 [08:53<07:03,  2.36episode/s] "
     ]
    },
    {
     "name": "stdout",
     "output_type": "stream",
     "text": [
      "Saved model: ../log/dqn/ckpt/dqn_CartPole-v1_1000.pth\n"
     ]
    },
    {
     "name": "stderr",
     "output_type": "stream",
     "text": [
      "Training DQN on CartPole-v1:  67%|██████▋   | 1348/2000 [13:39<06:36,  1.64episode/s]  \n"
     ]
    },
    {
     "ename": "KeyboardInterrupt",
     "evalue": "",
     "output_type": "error",
     "traceback": [
      "\u001b[0;31m---------------------------------------------------------------------------\u001b[0m",
      "\u001b[0;31mKeyboardInterrupt\u001b[0m                         Traceback (most recent call last)",
      "Cell \u001b[0;32mIn[47], line 2\u001b[0m\n\u001b[1;32m      1\u001b[0m \u001b[38;5;66;03m# 训练 CartPole 环境\u001b[39;00m\n\u001b[0;32m----> 2\u001b[0m \u001b[43mtrain_dqn\u001b[49m\u001b[43m(\u001b[49m\n\u001b[1;32m      3\u001b[0m \u001b[43m    \u001b[49m\u001b[43menv_name\u001b[49m\u001b[38;5;241;43m=\u001b[39;49m\u001b[38;5;124;43m\"\u001b[39;49m\u001b[38;5;124;43mCartPole-v1\u001b[39;49m\u001b[38;5;124;43m\"\u001b[39;49m\u001b[43m,\u001b[49m\n\u001b[1;32m      4\u001b[0m \u001b[43m    \u001b[49m\u001b[43mepisodes\u001b[49m\u001b[38;5;241;43m=\u001b[39;49m\u001b[43mEPISODES\u001b[49m\u001b[43m,\u001b[49m\n\u001b[1;32m      5\u001b[0m \u001b[43m    \u001b[49m\u001b[43mbatch_size\u001b[49m\u001b[38;5;241;43m=\u001b[39;49m\u001b[43mBATCH_SIZE\u001b[49m\u001b[43m,\u001b[49m\n\u001b[1;32m      6\u001b[0m \u001b[43m    \u001b[49m\u001b[43mepsilon\u001b[49m\u001b[38;5;241;43m=\u001b[39;49m\u001b[38;5;241;43m1.0\u001b[39;49m\u001b[43m,\u001b[49m\n\u001b[1;32m      7\u001b[0m \u001b[43m    \u001b[49m\u001b[43mmin_epsilon\u001b[49m\u001b[38;5;241;43m=\u001b[39;49m\u001b[43mEPSILON\u001b[49m\u001b[43m,\u001b[49m\n\u001b[1;32m      8\u001b[0m \u001b[43m    \u001b[49m\u001b[43mdecay_rate\u001b[49m\u001b[38;5;241;43m=\u001b[39;49m\u001b[38;5;241;43m0.995\u001b[39;49m\n\u001b[1;32m      9\u001b[0m \u001b[43m)\u001b[49m\n",
      "Cell \u001b[0;32mIn[46], line 43\u001b[0m, in \u001b[0;36mtrain_dqn\u001b[0;34m(env_name, episodes, batch_size, epsilon, min_epsilon, decay_rate)\u001b[0m\n\u001b[1;32m     41\u001b[0m \u001b[38;5;66;03m# 开始学习\u001b[39;00m\n\u001b[1;32m     42\u001b[0m \u001b[38;5;28;01mif\u001b[39;00m \u001b[38;5;28mlen\u001b[39m(dqn\u001b[38;5;241m.\u001b[39mmemory\u001b[38;5;241m.\u001b[39mbuffer) \u001b[38;5;241m>\u001b[39m\u001b[38;5;241m=\u001b[39m MIN_CAPACITY:\n\u001b[0;32m---> 43\u001b[0m     \u001b[43mdqn\u001b[49m\u001b[38;5;241;43m.\u001b[39;49m\u001b[43mlearn\u001b[49m\u001b[43m(\u001b[49m\u001b[43mbatch_size\u001b[49m\u001b[43m)\u001b[49m\n\u001b[1;32m     45\u001b[0m \u001b[38;5;66;03m# 幕结束\u001b[39;00m\n\u001b[1;32m     46\u001b[0m \u001b[38;5;28;01mif\u001b[39;00m done:\n",
      "File \u001b[0;32m~/Desktop/study/RL2024_LABs/lab02/src/model.py:103\u001b[0m, in \u001b[0;36mDQN.learn\u001b[0;34m(self, batch_size)\u001b[0m\n\u001b[1;32m    101\u001b[0m q_values \u001b[38;5;241m=\u001b[39m \u001b[38;5;28mself\u001b[39m\u001b[38;5;241m.\u001b[39meval_net(states)\u001b[38;5;241m.\u001b[39mgather(\u001b[38;5;241m1\u001b[39m, actions\u001b[38;5;241m.\u001b[39munsqueeze(\u001b[38;5;241m1\u001b[39m))\u001b[38;5;241m.\u001b[39msqueeze(\u001b[38;5;241m1\u001b[39m)\n\u001b[1;32m    102\u001b[0m \u001b[38;5;66;03m# max Q(s', a')\u001b[39;00m\n\u001b[0;32m--> 103\u001b[0m next_q_values \u001b[38;5;241m=\u001b[39m \u001b[38;5;28;43mself\u001b[39;49m\u001b[38;5;241;43m.\u001b[39;49m\u001b[43mtarget_net\u001b[49m\u001b[43m(\u001b[49m\u001b[43mnext_states\u001b[49m\u001b[43m)\u001b[49m\u001b[38;5;241m.\u001b[39mmax(\u001b[38;5;241m1\u001b[39m)[\u001b[38;5;241m0\u001b[39m]\n\u001b[1;32m    104\u001b[0m \u001b[38;5;66;03m# TD 目标\u001b[39;00m\n\u001b[1;32m    105\u001b[0m target \u001b[38;5;241m=\u001b[39m rewards \u001b[38;5;241m+\u001b[39m \u001b[38;5;28mself\u001b[39m\u001b[38;5;241m.\u001b[39mgamma \u001b[38;5;241m*\u001b[39m next_q_values \u001b[38;5;241m*\u001b[39m (\u001b[38;5;241m1\u001b[39m \u001b[38;5;241m-\u001b[39m dones)\n",
      "File \u001b[0;32m~/anaconda3/envs/rl2/lib/python3.9/site-packages/torch/nn/modules/module.py:1736\u001b[0m, in \u001b[0;36mModule._wrapped_call_impl\u001b[0;34m(self, *args, **kwargs)\u001b[0m\n\u001b[1;32m   1734\u001b[0m     \u001b[38;5;28;01mreturn\u001b[39;00m \u001b[38;5;28mself\u001b[39m\u001b[38;5;241m.\u001b[39m_compiled_call_impl(\u001b[38;5;241m*\u001b[39margs, \u001b[38;5;241m*\u001b[39m\u001b[38;5;241m*\u001b[39mkwargs)  \u001b[38;5;66;03m# type: ignore[misc]\u001b[39;00m\n\u001b[1;32m   1735\u001b[0m \u001b[38;5;28;01melse\u001b[39;00m:\n\u001b[0;32m-> 1736\u001b[0m     \u001b[38;5;28;01mreturn\u001b[39;00m \u001b[38;5;28;43mself\u001b[39;49m\u001b[38;5;241;43m.\u001b[39;49m\u001b[43m_call_impl\u001b[49m\u001b[43m(\u001b[49m\u001b[38;5;241;43m*\u001b[39;49m\u001b[43margs\u001b[49m\u001b[43m,\u001b[49m\u001b[43m \u001b[49m\u001b[38;5;241;43m*\u001b[39;49m\u001b[38;5;241;43m*\u001b[39;49m\u001b[43mkwargs\u001b[49m\u001b[43m)\u001b[49m\n",
      "File \u001b[0;32m~/anaconda3/envs/rl2/lib/python3.9/site-packages/torch/nn/modules/module.py:1747\u001b[0m, in \u001b[0;36mModule._call_impl\u001b[0;34m(self, *args, **kwargs)\u001b[0m\n\u001b[1;32m   1742\u001b[0m \u001b[38;5;66;03m# If we don't have any hooks, we want to skip the rest of the logic in\u001b[39;00m\n\u001b[1;32m   1743\u001b[0m \u001b[38;5;66;03m# this function, and just call forward.\u001b[39;00m\n\u001b[1;32m   1744\u001b[0m \u001b[38;5;28;01mif\u001b[39;00m \u001b[38;5;129;01mnot\u001b[39;00m (\u001b[38;5;28mself\u001b[39m\u001b[38;5;241m.\u001b[39m_backward_hooks \u001b[38;5;129;01mor\u001b[39;00m \u001b[38;5;28mself\u001b[39m\u001b[38;5;241m.\u001b[39m_backward_pre_hooks \u001b[38;5;129;01mor\u001b[39;00m \u001b[38;5;28mself\u001b[39m\u001b[38;5;241m.\u001b[39m_forward_hooks \u001b[38;5;129;01mor\u001b[39;00m \u001b[38;5;28mself\u001b[39m\u001b[38;5;241m.\u001b[39m_forward_pre_hooks\n\u001b[1;32m   1745\u001b[0m         \u001b[38;5;129;01mor\u001b[39;00m _global_backward_pre_hooks \u001b[38;5;129;01mor\u001b[39;00m _global_backward_hooks\n\u001b[1;32m   1746\u001b[0m         \u001b[38;5;129;01mor\u001b[39;00m _global_forward_hooks \u001b[38;5;129;01mor\u001b[39;00m _global_forward_pre_hooks):\n\u001b[0;32m-> 1747\u001b[0m     \u001b[38;5;28;01mreturn\u001b[39;00m \u001b[43mforward_call\u001b[49m\u001b[43m(\u001b[49m\u001b[38;5;241;43m*\u001b[39;49m\u001b[43margs\u001b[49m\u001b[43m,\u001b[49m\u001b[43m \u001b[49m\u001b[38;5;241;43m*\u001b[39;49m\u001b[38;5;241;43m*\u001b[39;49m\u001b[43mkwargs\u001b[49m\u001b[43m)\u001b[49m\n\u001b[1;32m   1749\u001b[0m result \u001b[38;5;241m=\u001b[39m \u001b[38;5;28;01mNone\u001b[39;00m\n\u001b[1;32m   1750\u001b[0m called_always_called_hooks \u001b[38;5;241m=\u001b[39m \u001b[38;5;28mset\u001b[39m()\n",
      "File \u001b[0;32m~/Desktop/study/RL2024_LABs/lab02/src/model.py:28\u001b[0m, in \u001b[0;36mModel.forward\u001b[0;34m(self, x)\u001b[0m\n\u001b[1;32m     26\u001b[0m \u001b[38;5;28;01mdef\u001b[39;00m\u001b[38;5;250m \u001b[39m\u001b[38;5;21mforward\u001b[39m(\u001b[38;5;28mself\u001b[39m, x):\n\u001b[1;32m     27\u001b[0m     x \u001b[38;5;241m=\u001b[39m F\u001b[38;5;241m.\u001b[39mrelu(\u001b[38;5;28mself\u001b[39m\u001b[38;5;241m.\u001b[39mfc1(x))\n\u001b[0;32m---> 28\u001b[0m     x \u001b[38;5;241m=\u001b[39m \u001b[43mF\u001b[49m\u001b[38;5;241;43m.\u001b[39;49m\u001b[43mrelu\u001b[49m\u001b[43m(\u001b[49m\u001b[38;5;28;43mself\u001b[39;49m\u001b[38;5;241;43m.\u001b[39;49m\u001b[43mfc2\u001b[49m\u001b[43m(\u001b[49m\u001b[43mx\u001b[49m\u001b[43m)\u001b[49m\u001b[43m)\u001b[49m\n\u001b[1;32m     29\u001b[0m     \u001b[38;5;28;01mreturn\u001b[39;00m \u001b[38;5;28mself\u001b[39m\u001b[38;5;241m.\u001b[39mout(x)\n",
      "File \u001b[0;32m~/anaconda3/envs/rl2/lib/python3.9/site-packages/torch/nn/functional.py:1704\u001b[0m, in \u001b[0;36mrelu\u001b[0;34m(input, inplace)\u001b[0m\n\u001b[1;32m   1702\u001b[0m     result \u001b[38;5;241m=\u001b[39m torch\u001b[38;5;241m.\u001b[39mrelu_(\u001b[38;5;28minput\u001b[39m)\n\u001b[1;32m   1703\u001b[0m \u001b[38;5;28;01melse\u001b[39;00m:\n\u001b[0;32m-> 1704\u001b[0m     result \u001b[38;5;241m=\u001b[39m \u001b[43mtorch\u001b[49m\u001b[38;5;241;43m.\u001b[39;49m\u001b[43mrelu\u001b[49m\u001b[43m(\u001b[49m\u001b[38;5;28;43minput\u001b[39;49m\u001b[43m)\u001b[49m\n\u001b[1;32m   1705\u001b[0m \u001b[38;5;28;01mreturn\u001b[39;00m result\n",
      "\u001b[0;31mKeyboardInterrupt\u001b[0m: "
     ]
    }
   ],
   "source": [
    "# 训练 CartPole 环境\n",
    "train_dqn(\n",
    "    env_name=\"CartPole-v1\",\n",
    "    episodes=EPISODES,\n",
    "    batch_size=BATCH_SIZE,\n",
    "    epsilon=1.0,\n",
    "    min_epsilon=EPSILON,\n",
    "    decay_rate=0.995\n",
    ")"
   ]
  },
  {
   "cell_type": "code",
   "execution_count": null,
   "metadata": {},
   "outputs": [
    {
     "name": "stdout",
     "output_type": "stream",
     "text": [
      "model using device: cpu\n"
     ]
    },
    {
     "name": "stderr",
     "output_type": "stream",
     "text": [
      "Training DQN on MountainCar-v0:   0%|          | 6/2000 [00:47<4:24:17,  7.95s/episode]\n"
     ]
    },
    {
     "ename": "KeyboardInterrupt",
     "evalue": "",
     "output_type": "error",
     "traceback": [
      "\u001b[0;31m---------------------------------------------------------------------------\u001b[0m",
      "\u001b[0;31mKeyboardInterrupt\u001b[0m                         Traceback (most recent call last)",
      "Cell \u001b[0;32mIn[42], line 2\u001b[0m\n\u001b[1;32m      1\u001b[0m \u001b[38;5;66;03m# 训练 MountainCar 环境\u001b[39;00m\n\u001b[0;32m----> 2\u001b[0m \u001b[43mtrain_dqn\u001b[49m\u001b[43m(\u001b[49m\n\u001b[1;32m      3\u001b[0m \u001b[43m    \u001b[49m\u001b[43menv_name\u001b[49m\u001b[38;5;241;43m=\u001b[39;49m\u001b[38;5;124;43m\"\u001b[39;49m\u001b[38;5;124;43mMountainCar-v0\u001b[39;49m\u001b[38;5;124;43m\"\u001b[39;49m\u001b[43m,\u001b[49m\n\u001b[1;32m      4\u001b[0m \u001b[43m    \u001b[49m\u001b[43mepisodes\u001b[49m\u001b[38;5;241;43m=\u001b[39;49m\u001b[43mEPISODES\u001b[49m\u001b[43m,\u001b[49m\n\u001b[1;32m      5\u001b[0m \u001b[43m    \u001b[49m\u001b[43mbatch_size\u001b[49m\u001b[38;5;241;43m=\u001b[39;49m\u001b[43mBATCH_SIZE\u001b[49m\u001b[43m,\u001b[49m\n\u001b[1;32m      6\u001b[0m \u001b[43m    \u001b[49m\u001b[43mepsilon\u001b[49m\u001b[38;5;241;43m=\u001b[39;49m\u001b[38;5;241;43m1.0\u001b[39;49m\u001b[43m,\u001b[49m\n\u001b[1;32m      7\u001b[0m \u001b[43m    \u001b[49m\u001b[43mmin_epsilon\u001b[49m\u001b[38;5;241;43m=\u001b[39;49m\u001b[43mEPSILON\u001b[49m\u001b[43m,\u001b[49m\n\u001b[1;32m      8\u001b[0m \u001b[43m    \u001b[49m\u001b[43mdecay_rate\u001b[49m\u001b[38;5;241;43m=\u001b[39;49m\u001b[38;5;241;43m0.995\u001b[39;49m\n\u001b[1;32m      9\u001b[0m \u001b[43m)\u001b[49m\n",
      "Cell \u001b[0;32mIn[41], line 43\u001b[0m, in \u001b[0;36mtrain_dqn\u001b[0;34m(env_name, episodes, batch_size, epsilon, min_epsilon, decay_rate)\u001b[0m\n\u001b[1;32m     41\u001b[0m \u001b[38;5;66;03m# 开始学习\u001b[39;00m\n\u001b[1;32m     42\u001b[0m \u001b[38;5;28;01mif\u001b[39;00m \u001b[38;5;28mlen\u001b[39m(dqn\u001b[38;5;241m.\u001b[39mmemory\u001b[38;5;241m.\u001b[39mbuffer) \u001b[38;5;241m>\u001b[39m\u001b[38;5;241m=\u001b[39m MIN_CAPACITY:\n\u001b[0;32m---> 43\u001b[0m     \u001b[43mdqn\u001b[49m\u001b[38;5;241;43m.\u001b[39;49m\u001b[43mlearn\u001b[49m\u001b[43m(\u001b[49m\u001b[43mbatch_size\u001b[49m\u001b[43m)\u001b[49m\n\u001b[1;32m     45\u001b[0m \u001b[38;5;66;03m# 幕结束\u001b[39;00m\n\u001b[1;32m     46\u001b[0m \u001b[38;5;28;01mif\u001b[39;00m done:\n",
      "File \u001b[0;32m~/Desktop/study/RL2024_LABs/lab02/src/model.py:105\u001b[0m, in \u001b[0;36mDQN.learn\u001b[0;34m(self, batch_size)\u001b[0m\n\u001b[1;32m    103\u001b[0m next_q_values \u001b[38;5;241m=\u001b[39m \u001b[38;5;28mself\u001b[39m\u001b[38;5;241m.\u001b[39mtarget_net(next_states)\u001b[38;5;241m.\u001b[39mmax(\u001b[38;5;241m1\u001b[39m)[\u001b[38;5;241m0\u001b[39m]\n\u001b[1;32m    104\u001b[0m \u001b[38;5;66;03m# TD 目标\u001b[39;00m\n\u001b[0;32m--> 105\u001b[0m target \u001b[38;5;241m=\u001b[39m rewards \u001b[38;5;241m+\u001b[39m \u001b[38;5;28mself\u001b[39m\u001b[38;5;241m.\u001b[39mgamma \u001b[38;5;241m*\u001b[39m next_q_values \u001b[38;5;241m*\u001b[39m (\u001b[38;5;241;43m1\u001b[39;49m\u001b[43m \u001b[49m\u001b[38;5;241;43m-\u001b[39;49m\u001b[43m \u001b[49m\u001b[43mdones\u001b[49m)\n\u001b[1;32m    107\u001b[0m \u001b[38;5;66;03m# 计算损失\u001b[39;00m\n\u001b[1;32m    108\u001b[0m loss \u001b[38;5;241m=\u001b[39m F\u001b[38;5;241m.\u001b[39mmse_loss(q_values, target)\n",
      "File \u001b[0;32m~/anaconda3/envs/rl2/lib/python3.9/site-packages/torch/_tensor.py:39\u001b[0m, in \u001b[0;36m_handle_torch_function_and_wrap_type_error_to_not_implemented.<locals>.wrapped\u001b[0;34m(*args, **kwargs)\u001b[0m\n\u001b[1;32m     37\u001b[0m     \u001b[38;5;28;01mif\u001b[39;00m has_torch_function(args):\n\u001b[1;32m     38\u001b[0m         \u001b[38;5;28;01mreturn\u001b[39;00m handle_torch_function(wrapped, args, \u001b[38;5;241m*\u001b[39margs, \u001b[38;5;241m*\u001b[39m\u001b[38;5;241m*\u001b[39mkwargs)\n\u001b[0;32m---> 39\u001b[0m     \u001b[38;5;28;01mreturn\u001b[39;00m \u001b[43mf\u001b[49m\u001b[43m(\u001b[49m\u001b[38;5;241;43m*\u001b[39;49m\u001b[43margs\u001b[49m\u001b[43m,\u001b[49m\u001b[43m \u001b[49m\u001b[38;5;241;43m*\u001b[39;49m\u001b[38;5;241;43m*\u001b[39;49m\u001b[43mkwargs\u001b[49m\u001b[43m)\u001b[49m\n\u001b[1;32m     40\u001b[0m \u001b[38;5;28;01mexcept\u001b[39;00m \u001b[38;5;167;01mTypeError\u001b[39;00m:\n\u001b[1;32m     41\u001b[0m     \u001b[38;5;28;01mreturn\u001b[39;00m \u001b[38;5;28mNotImplemented\u001b[39m\n",
      "File \u001b[0;32m~/anaconda3/envs/rl2/lib/python3.9/site-packages/torch/_tensor.py:1028\u001b[0m, in \u001b[0;36mTensor.__rsub__\u001b[0;34m(self, other)\u001b[0m\n\u001b[1;32m   1026\u001b[0m \u001b[38;5;129m@_handle_torch_function_and_wrap_type_error_to_not_implemented\u001b[39m\n\u001b[1;32m   1027\u001b[0m \u001b[38;5;28;01mdef\u001b[39;00m\u001b[38;5;250m \u001b[39m\u001b[38;5;21m__rsub__\u001b[39m(\u001b[38;5;28mself\u001b[39m, other):\n\u001b[0;32m-> 1028\u001b[0m     \u001b[38;5;28;01mreturn\u001b[39;00m \u001b[43m_C\u001b[49m\u001b[38;5;241;43m.\u001b[39;49m\u001b[43m_VariableFunctions\u001b[49m\u001b[38;5;241;43m.\u001b[39;49m\u001b[43mrsub\u001b[49m\u001b[43m(\u001b[49m\u001b[38;5;28;43mself\u001b[39;49m\u001b[43m,\u001b[49m\u001b[43m \u001b[49m\u001b[43mother\u001b[49m\u001b[43m)\u001b[49m\n",
      "\u001b[0;31mKeyboardInterrupt\u001b[0m: "
     ]
    }
   ],
   "source": [
    "# 训练 MountainCar 环境\n",
    "train_dqn(\n",
    "    env_name=\"MountainCar-v0\",\n",
    "    episodes=EPISODES,\n",
    "    batch_size=BATCH_SIZE,\n",
    "    epsilon=1.0,\n",
    "    min_epsilon=EPSILON,\n",
    "    decay_rate=0.995\n",
    ")"
   ]
  },
  {
   "cell_type": "code",
   "execution_count": null,
   "metadata": {},
   "outputs": [
    {
     "name": "stdout",
     "output_type": "stream",
     "text": [
      "model using device: cpu\n"
     ]
    },
    {
     "name": "stderr",
     "output_type": "stream",
     "text": [
      "Training DQN on LunarLander-v3:  50%|█████     | 1001/2000 [07:48<03:33,  4.67episode/s]  "
     ]
    },
    {
     "name": "stdout",
     "output_type": "stream",
     "text": [
      "Saved model: ../log/dqn/ckpt/dqn_LunarLander-v3_1000.pth\n"
     ]
    },
    {
     "name": "stderr",
     "output_type": "stream",
     "text": [
      "Training DQN on LunarLander-v3: 100%|██████████| 2000/2000 [10:16<00:00,  3.24episode/s]"
     ]
    },
    {
     "name": "stdout",
     "output_type": "stream",
     "text": [
      "Saved model: ../log/dqn/ckpt/dqn_LunarLander-v3_2000.pth\n"
     ]
    },
    {
     "name": "stderr",
     "output_type": "stream",
     "text": [
      "\n"
     ]
    }
   ],
   "source": [
    "# 训练 LunarLander 环境\n",
    "train_dqn(\n",
    "    env_name=\"LunarLander-v3\",\n",
    "    episodes=EPISODES,\n",
    "    batch_size=BATCH_SIZE,\n",
    "    epsilon=1.0,\n",
    "    min_epsilon=EPSILON,\n",
    "    decay_rate=0.995\n",
    ")"
   ]
  },
  {
   "cell_type": "markdown",
   "metadata": {},
   "source": [
    "## Double DQN"
   ]
  },
  {
   "cell_type": "code",
   "execution_count": null,
   "metadata": {},
   "outputs": [],
   "source": [
    "import torch\n",
    "import gymnasium as gym\n",
    "from model import DoubleDQN, Data\n",
    "from const import *\n",
    "from utils import set_random_seed\n",
    "from torch.utils.tensorboard import SummaryWriter\n",
    "from tqdm import tqdm\n",
    "import numpy as np"
   ]
  },
  {
   "cell_type": "code",
   "execution_count": null,
   "metadata": {},
   "outputs": [],
   "source": [
    "SAVE_PATH_PREFIX = \"../log/double_dqn\"\n",
    "os.makedirs(SAVE_PATH_PREFIX, exist_ok=True); os.makedirs(f\"{SAVE_PATH_PREFIX}/ckpt\", exist_ok=True)\n",
    "\n",
    "def train_double_dqn(env_name, episodes, batch_size, epsilon, min_epsilon, decay_rate):\n",
    "    \"\"\"\n",
    "    使用 Double DQN 算法在指定环境中训练，并保存训练数据和模型\n",
    "    \"\"\"\n",
    "    # 创建环境\n",
    "    env = gym.make(env_name)\n",
    "    num_states = env.observation_space.shape[0]\n",
    "    num_actions = env.action_space.n\n",
    "\n",
    "    # 设置随机种子\n",
    "    set_random_seed(SEED)\n",
    "\n",
    "    # 初始化 Double DQN 模型\n",
    "    double_dqn = DoubleDQN(num_states, num_actions, DEVICE, LR, GAMMA, MEMORY_CAPACITY)\n",
    "\n",
    "    # 初始化 TensorBoard Writer\n",
    "    writer = SummaryWriter(f'{SAVE_PATH_PREFIX}/{env_name}_double_dqn')\n",
    "\n",
    "    reward_list = []  # 保存每幕的奖励\n",
    "\n",
    "    # 开始训练\n",
    "    for episode in tqdm(range(episodes), desc=f\"Training Double DQN on {env_name}\", unit=\"episode\"):\n",
    "        state, _ = env.reset(seed=SEED)\n",
    "        total_reward = 0\n",
    "\n",
    "        while True:\n",
    "            # epsilon-greedy 策略选择动作\n",
    "            action = double_dqn.choose_action(state, epsilon)\n",
    "\n",
    "            # 执行动作\n",
    "            next_state, reward, done, _, _ = env.step(action)\n",
    "\n",
    "            # 存储经验\n",
    "            double_dqn.memory.set(Data(state, action, reward, next_state, done))\n",
    "\n",
    "            # 累积奖励\n",
    "            total_reward += reward\n",
    "\n",
    "            # 开始学习\n",
    "            if len(double_dqn.memory.buffer) >= MIN_CAPACITY:\n",
    "                double_dqn.learn(batch_size)\n",
    "\n",
    "            if done:\n",
    "                writer.add_scalar('Reward', total_reward, global_step=episode)\n",
    "                reward_list.append(total_reward)  # 记录奖励\n",
    "                break\n",
    "\n",
    "            state = next_state\n",
    "\n",
    "        # 保存模型\n",
    "        if (episode + 1) % SAVING_ITERATION == 0:\n",
    "            double_dqn_path = f\"{SAVE_PATH_PREFIX}/ckpt/double_dqn_{env_name}_{episode + 1}.pth\"\n",
    "            torch.save(double_dqn.eval_net.state_dict(), double_dqn_path)\n",
    "            tqdm.write(f\"Saved model: {double_dqn_path}\")\n",
    "\n",
    "        # 更新 epsilon\n",
    "        epsilon = max(min_epsilon, epsilon * decay_rate)\n",
    "        \n",
    "    # 保存奖励数据到 CSV 文件\n",
    "    csv_path = f\"{SAVE_PATH_PREFIX}/reward_{env_name}.csv\"\n",
    "    with open(csv_path, mode='w', newline='') as f:\n",
    "        csv_writer = csv.writer(f)  # 使用新的变量名 csv_writer\n",
    "        csv_writer.writerow([\"Episode\", \"Reward\"])\n",
    "        for i, reward in enumerate(reward_list):\n",
    "            csv_writer.writerow([i + 1, reward])\n",
    "    print(f\"Reward data saved to {csv_path}\")\n",
    "    \n",
    "    env.close()\n",
    "    writer.close()"
   ]
  },
  {
   "cell_type": "code",
   "execution_count": null,
   "metadata": {},
   "outputs": [
    {
     "name": "stdout",
     "output_type": "stream",
     "text": [
      "model using device: cpu\n"
     ]
    },
    {
     "name": "stderr",
     "output_type": "stream",
     "text": [
      "Training Double DQN on CartPole-v1:  30%|███       | 607/2000 [03:48<08:44,  2.65episode/s]  \n"
     ]
    },
    {
     "ename": "KeyboardInterrupt",
     "evalue": "",
     "output_type": "error",
     "traceback": [
      "\u001b[0;31m---------------------------------------------------------------------------\u001b[0m",
      "\u001b[0;31mKeyboardInterrupt\u001b[0m                         Traceback (most recent call last)",
      "Cell \u001b[0;32mIn[28], line 2\u001b[0m\n\u001b[1;32m      1\u001b[0m \u001b[38;5;66;03m# 训练 CartPole 环境\u001b[39;00m\n\u001b[0;32m----> 2\u001b[0m \u001b[43mtrain_double_dqn\u001b[49m\u001b[43m(\u001b[49m\n\u001b[1;32m      3\u001b[0m \u001b[43m    \u001b[49m\u001b[43menv_name\u001b[49m\u001b[38;5;241;43m=\u001b[39;49m\u001b[38;5;124;43m\"\u001b[39;49m\u001b[38;5;124;43mCartPole-v1\u001b[39;49m\u001b[38;5;124;43m\"\u001b[39;49m\u001b[43m,\u001b[49m\n\u001b[1;32m      4\u001b[0m \u001b[43m    \u001b[49m\u001b[43mepisodes\u001b[49m\u001b[38;5;241;43m=\u001b[39;49m\u001b[43mEPISODES\u001b[49m\u001b[43m,\u001b[49m\n\u001b[1;32m      5\u001b[0m \u001b[43m    \u001b[49m\u001b[43mbatch_size\u001b[49m\u001b[38;5;241;43m=\u001b[39;49m\u001b[43mBATCH_SIZE\u001b[49m\u001b[43m,\u001b[49m\n\u001b[1;32m      6\u001b[0m \u001b[43m    \u001b[49m\u001b[43mepsilon\u001b[49m\u001b[38;5;241;43m=\u001b[39;49m\u001b[38;5;241;43m1.0\u001b[39;49m\u001b[43m,\u001b[49m\n\u001b[1;32m      7\u001b[0m \u001b[43m    \u001b[49m\u001b[43mmin_epsilon\u001b[49m\u001b[38;5;241;43m=\u001b[39;49m\u001b[43mEPSILON\u001b[49m\u001b[43m,\u001b[49m\n\u001b[1;32m      8\u001b[0m \u001b[43m    \u001b[49m\u001b[43mdecay_rate\u001b[49m\u001b[38;5;241;43m=\u001b[39;49m\u001b[38;5;241;43m0.995\u001b[39;49m\n\u001b[1;32m      9\u001b[0m \u001b[43m)\u001b[49m\n",
      "Cell \u001b[0;32mIn[27], line 36\u001b[0m, in \u001b[0;36mtrain_double_dqn\u001b[0;34m(env_name, episodes, batch_size, epsilon, min_epsilon, decay_rate)\u001b[0m\n\u001b[1;32m     32\u001b[0m total_reward \u001b[38;5;241m=\u001b[39m \u001b[38;5;241m0\u001b[39m  \u001b[38;5;66;03m# 每幕的总奖励\u001b[39;00m\n\u001b[1;32m     34\u001b[0m \u001b[38;5;28;01mwhile\u001b[39;00m \u001b[38;5;28;01mTrue\u001b[39;00m:\n\u001b[1;32m     35\u001b[0m     \u001b[38;5;66;03m# 根据 epsilon-greedy 策略选择动作\u001b[39;00m\n\u001b[0;32m---> 36\u001b[0m     action \u001b[38;5;241m=\u001b[39m \u001b[43mdouble_dqn\u001b[49m\u001b[38;5;241;43m.\u001b[39;49m\u001b[43mchoose_action\u001b[49m\u001b[43m(\u001b[49m\u001b[43mstate\u001b[49m\u001b[43m,\u001b[49m\u001b[43m \u001b[49m\u001b[43mepsilon\u001b[49m\u001b[43m)\u001b[49m\n\u001b[1;32m     38\u001b[0m     \u001b[38;5;66;03m# 执行动作，观察下一个状态、奖励和完成标志\u001b[39;00m\n\u001b[1;32m     39\u001b[0m     next_state, reward, done, _, _ \u001b[38;5;241m=\u001b[39m env\u001b[38;5;241m.\u001b[39mstep(action)\n",
      "File \u001b[0;32m~/Desktop/study/RL2024_LABs/lab02/src/model.py:82\u001b[0m, in \u001b[0;36mDQN.choose_action\u001b[0;34m(self, state, epsilon)\u001b[0m\n\u001b[1;32m     80\u001b[0m     state \u001b[38;5;241m=\u001b[39m torch\u001b[38;5;241m.\u001b[39mtensor(state, dtype\u001b[38;5;241m=\u001b[39mtorch\u001b[38;5;241m.\u001b[39mfloat)\u001b[38;5;241m.\u001b[39munsqueeze(\u001b[38;5;241m0\u001b[39m)\u001b[38;5;241m.\u001b[39mto(\u001b[38;5;28mself\u001b[39m\u001b[38;5;241m.\u001b[39mdevice)\n\u001b[1;32m     81\u001b[0m     \u001b[38;5;28;01mwith\u001b[39;00m torch\u001b[38;5;241m.\u001b[39mno_grad():\n\u001b[0;32m---> 82\u001b[0m         action_values \u001b[38;5;241m=\u001b[39m \u001b[38;5;28;43mself\u001b[39;49m\u001b[38;5;241;43m.\u001b[39;49m\u001b[43meval_net\u001b[49m\u001b[43m(\u001b[49m\u001b[43mstate\u001b[49m\u001b[43m)\u001b[49m\n\u001b[1;32m     83\u001b[0m     action \u001b[38;5;241m=\u001b[39m torch\u001b[38;5;241m.\u001b[39margmax(action_values)\u001b[38;5;241m.\u001b[39mitem()\n\u001b[1;32m     84\u001b[0m \u001b[38;5;28;01melse\u001b[39;00m:  \u001b[38;5;66;03m# 按随机策略选择动作\u001b[39;00m\n",
      "File \u001b[0;32m~/anaconda3/envs/rl2/lib/python3.9/site-packages/torch/nn/modules/module.py:1736\u001b[0m, in \u001b[0;36mModule._wrapped_call_impl\u001b[0;34m(self, *args, **kwargs)\u001b[0m\n\u001b[1;32m   1734\u001b[0m     \u001b[38;5;28;01mreturn\u001b[39;00m \u001b[38;5;28mself\u001b[39m\u001b[38;5;241m.\u001b[39m_compiled_call_impl(\u001b[38;5;241m*\u001b[39margs, \u001b[38;5;241m*\u001b[39m\u001b[38;5;241m*\u001b[39mkwargs)  \u001b[38;5;66;03m# type: ignore[misc]\u001b[39;00m\n\u001b[1;32m   1735\u001b[0m \u001b[38;5;28;01melse\u001b[39;00m:\n\u001b[0;32m-> 1736\u001b[0m     \u001b[38;5;28;01mreturn\u001b[39;00m \u001b[38;5;28;43mself\u001b[39;49m\u001b[38;5;241;43m.\u001b[39;49m\u001b[43m_call_impl\u001b[49m\u001b[43m(\u001b[49m\u001b[38;5;241;43m*\u001b[39;49m\u001b[43margs\u001b[49m\u001b[43m,\u001b[49m\u001b[43m \u001b[49m\u001b[38;5;241;43m*\u001b[39;49m\u001b[38;5;241;43m*\u001b[39;49m\u001b[43mkwargs\u001b[49m\u001b[43m)\u001b[49m\n",
      "File \u001b[0;32m~/anaconda3/envs/rl2/lib/python3.9/site-packages/torch/nn/modules/module.py:1747\u001b[0m, in \u001b[0;36mModule._call_impl\u001b[0;34m(self, *args, **kwargs)\u001b[0m\n\u001b[1;32m   1742\u001b[0m \u001b[38;5;66;03m# If we don't have any hooks, we want to skip the rest of the logic in\u001b[39;00m\n\u001b[1;32m   1743\u001b[0m \u001b[38;5;66;03m# this function, and just call forward.\u001b[39;00m\n\u001b[1;32m   1744\u001b[0m \u001b[38;5;28;01mif\u001b[39;00m \u001b[38;5;129;01mnot\u001b[39;00m (\u001b[38;5;28mself\u001b[39m\u001b[38;5;241m.\u001b[39m_backward_hooks \u001b[38;5;129;01mor\u001b[39;00m \u001b[38;5;28mself\u001b[39m\u001b[38;5;241m.\u001b[39m_backward_pre_hooks \u001b[38;5;129;01mor\u001b[39;00m \u001b[38;5;28mself\u001b[39m\u001b[38;5;241m.\u001b[39m_forward_hooks \u001b[38;5;129;01mor\u001b[39;00m \u001b[38;5;28mself\u001b[39m\u001b[38;5;241m.\u001b[39m_forward_pre_hooks\n\u001b[1;32m   1745\u001b[0m         \u001b[38;5;129;01mor\u001b[39;00m _global_backward_pre_hooks \u001b[38;5;129;01mor\u001b[39;00m _global_backward_hooks\n\u001b[1;32m   1746\u001b[0m         \u001b[38;5;129;01mor\u001b[39;00m _global_forward_hooks \u001b[38;5;129;01mor\u001b[39;00m _global_forward_pre_hooks):\n\u001b[0;32m-> 1747\u001b[0m     \u001b[38;5;28;01mreturn\u001b[39;00m \u001b[43mforward_call\u001b[49m\u001b[43m(\u001b[49m\u001b[38;5;241;43m*\u001b[39;49m\u001b[43margs\u001b[49m\u001b[43m,\u001b[49m\u001b[43m \u001b[49m\u001b[38;5;241;43m*\u001b[39;49m\u001b[38;5;241;43m*\u001b[39;49m\u001b[43mkwargs\u001b[49m\u001b[43m)\u001b[49m\n\u001b[1;32m   1749\u001b[0m result \u001b[38;5;241m=\u001b[39m \u001b[38;5;28;01mNone\u001b[39;00m\n\u001b[1;32m   1750\u001b[0m called_always_called_hooks \u001b[38;5;241m=\u001b[39m \u001b[38;5;28mset\u001b[39m()\n",
      "File \u001b[0;32m~/Desktop/study/RL2024_LABs/lab02/src/model.py:29\u001b[0m, in \u001b[0;36mModel.forward\u001b[0;34m(self, x)\u001b[0m\n\u001b[1;32m     27\u001b[0m x \u001b[38;5;241m=\u001b[39m F\u001b[38;5;241m.\u001b[39mrelu(\u001b[38;5;28mself\u001b[39m\u001b[38;5;241m.\u001b[39mfc1(x))\n\u001b[1;32m     28\u001b[0m x \u001b[38;5;241m=\u001b[39m F\u001b[38;5;241m.\u001b[39mrelu(\u001b[38;5;28mself\u001b[39m\u001b[38;5;241m.\u001b[39mfc2(x))\n\u001b[0;32m---> 29\u001b[0m \u001b[38;5;28;01mreturn\u001b[39;00m \u001b[38;5;28;43mself\u001b[39;49m\u001b[38;5;241;43m.\u001b[39;49m\u001b[43mout\u001b[49m\u001b[43m(\u001b[49m\u001b[43mx\u001b[49m\u001b[43m)\u001b[49m\n",
      "File \u001b[0;32m~/anaconda3/envs/rl2/lib/python3.9/site-packages/torch/nn/modules/module.py:1736\u001b[0m, in \u001b[0;36mModule._wrapped_call_impl\u001b[0;34m(self, *args, **kwargs)\u001b[0m\n\u001b[1;32m   1734\u001b[0m     \u001b[38;5;28;01mreturn\u001b[39;00m \u001b[38;5;28mself\u001b[39m\u001b[38;5;241m.\u001b[39m_compiled_call_impl(\u001b[38;5;241m*\u001b[39margs, \u001b[38;5;241m*\u001b[39m\u001b[38;5;241m*\u001b[39mkwargs)  \u001b[38;5;66;03m# type: ignore[misc]\u001b[39;00m\n\u001b[1;32m   1735\u001b[0m \u001b[38;5;28;01melse\u001b[39;00m:\n\u001b[0;32m-> 1736\u001b[0m     \u001b[38;5;28;01mreturn\u001b[39;00m \u001b[38;5;28;43mself\u001b[39;49m\u001b[38;5;241;43m.\u001b[39;49m\u001b[43m_call_impl\u001b[49m\u001b[43m(\u001b[49m\u001b[38;5;241;43m*\u001b[39;49m\u001b[43margs\u001b[49m\u001b[43m,\u001b[49m\u001b[43m \u001b[49m\u001b[38;5;241;43m*\u001b[39;49m\u001b[38;5;241;43m*\u001b[39;49m\u001b[43mkwargs\u001b[49m\u001b[43m)\u001b[49m\n",
      "File \u001b[0;32m~/anaconda3/envs/rl2/lib/python3.9/site-packages/torch/nn/modules/module.py:1747\u001b[0m, in \u001b[0;36mModule._call_impl\u001b[0;34m(self, *args, **kwargs)\u001b[0m\n\u001b[1;32m   1742\u001b[0m \u001b[38;5;66;03m# If we don't have any hooks, we want to skip the rest of the logic in\u001b[39;00m\n\u001b[1;32m   1743\u001b[0m \u001b[38;5;66;03m# this function, and just call forward.\u001b[39;00m\n\u001b[1;32m   1744\u001b[0m \u001b[38;5;28;01mif\u001b[39;00m \u001b[38;5;129;01mnot\u001b[39;00m (\u001b[38;5;28mself\u001b[39m\u001b[38;5;241m.\u001b[39m_backward_hooks \u001b[38;5;129;01mor\u001b[39;00m \u001b[38;5;28mself\u001b[39m\u001b[38;5;241m.\u001b[39m_backward_pre_hooks \u001b[38;5;129;01mor\u001b[39;00m \u001b[38;5;28mself\u001b[39m\u001b[38;5;241m.\u001b[39m_forward_hooks \u001b[38;5;129;01mor\u001b[39;00m \u001b[38;5;28mself\u001b[39m\u001b[38;5;241m.\u001b[39m_forward_pre_hooks\n\u001b[1;32m   1745\u001b[0m         \u001b[38;5;129;01mor\u001b[39;00m _global_backward_pre_hooks \u001b[38;5;129;01mor\u001b[39;00m _global_backward_hooks\n\u001b[1;32m   1746\u001b[0m         \u001b[38;5;129;01mor\u001b[39;00m _global_forward_hooks \u001b[38;5;129;01mor\u001b[39;00m _global_forward_pre_hooks):\n\u001b[0;32m-> 1747\u001b[0m     \u001b[38;5;28;01mreturn\u001b[39;00m \u001b[43mforward_call\u001b[49m\u001b[43m(\u001b[49m\u001b[38;5;241;43m*\u001b[39;49m\u001b[43margs\u001b[49m\u001b[43m,\u001b[49m\u001b[43m \u001b[49m\u001b[38;5;241;43m*\u001b[39;49m\u001b[38;5;241;43m*\u001b[39;49m\u001b[43mkwargs\u001b[49m\u001b[43m)\u001b[49m\n\u001b[1;32m   1749\u001b[0m result \u001b[38;5;241m=\u001b[39m \u001b[38;5;28;01mNone\u001b[39;00m\n\u001b[1;32m   1750\u001b[0m called_always_called_hooks \u001b[38;5;241m=\u001b[39m \u001b[38;5;28mset\u001b[39m()\n",
      "File \u001b[0;32m~/anaconda3/envs/rl2/lib/python3.9/site-packages/torch/nn/modules/linear.py:125\u001b[0m, in \u001b[0;36mLinear.forward\u001b[0;34m(self, input)\u001b[0m\n\u001b[1;32m    124\u001b[0m \u001b[38;5;28;01mdef\u001b[39;00m\u001b[38;5;250m \u001b[39m\u001b[38;5;21mforward\u001b[39m(\u001b[38;5;28mself\u001b[39m, \u001b[38;5;28minput\u001b[39m: Tensor) \u001b[38;5;241m-\u001b[39m\u001b[38;5;241m>\u001b[39m Tensor:\n\u001b[0;32m--> 125\u001b[0m     \u001b[38;5;28;01mreturn\u001b[39;00m \u001b[43mF\u001b[49m\u001b[38;5;241;43m.\u001b[39;49m\u001b[43mlinear\u001b[49m\u001b[43m(\u001b[49m\u001b[38;5;28;43minput\u001b[39;49m\u001b[43m,\u001b[49m\u001b[43m \u001b[49m\u001b[38;5;28;43mself\u001b[39;49m\u001b[38;5;241;43m.\u001b[39;49m\u001b[43mweight\u001b[49m\u001b[43m,\u001b[49m\u001b[43m \u001b[49m\u001b[38;5;28;43mself\u001b[39;49m\u001b[38;5;241;43m.\u001b[39;49m\u001b[43mbias\u001b[49m\u001b[43m)\u001b[49m\n",
      "\u001b[0;31mKeyboardInterrupt\u001b[0m: "
     ]
    }
   ],
   "source": [
    "\n",
    "# 训练 CartPole 环境\n",
    "train_double_dqn(\n",
    "    env_name=\"CartPole-v1\",\n",
    "    episodes=EPISODES,\n",
    "    batch_size=BATCH_SIZE,\n",
    "    epsilon=1.0,\n",
    "    min_epsilon=EPSILON,\n",
    "    decay_rate=0.995\n",
    ")\n"
   ]
  },
  {
   "cell_type": "code",
   "execution_count": null,
   "metadata": {},
   "outputs": [],
   "source": [
    "\n",
    "# 训练 MountainCar 环境\n",
    "train_double_dqn(\n",
    "    env_name=\"MountainCar-v0\",\n",
    "    episodes=EPISODES,\n",
    "    batch_size=BATCH_SIZE,\n",
    "    epsilon=1.0,\n",
    "    min_epsilon=EPSILON,\n",
    "    decay_rate=0.995\n",
    ")\n"
   ]
  },
  {
   "cell_type": "code",
   "execution_count": null,
   "metadata": {},
   "outputs": [],
   "source": [
    "\n",
    "# 训练 LunarLander 环境\n",
    "train_double_dqn(\n",
    "    env_name=\"LunarLander-v3\",\n",
    "    episodes=EPISODES,\n",
    "    batch_size=BATCH_SIZE,\n",
    "    epsilon=1.0,\n",
    "    min_epsilon=EPSILON,\n",
    "    decay_rate=0.995\n",
    ")"
   ]
  },
  {
   "cell_type": "markdown",
   "metadata": {},
   "source": [
    "## Dueling DQN"
   ]
  },
  {
   "cell_type": "code",
   "execution_count": null,
   "metadata": {},
   "outputs": [],
   "source": [
    "import torch\n",
    "import gymnasium as gym\n",
    "from src.model import DuelingDQN, Data\n",
    "from src.const import *\n",
    "from src.utils import set_random_seed\n",
    "from torch.utils.tensorboard import SummaryWriter\n",
    "from tqdm import tqdm\n",
    "import numpy as np"
   ]
  },
  {
   "cell_type": "code",
   "execution_count": null,
   "metadata": {},
   "outputs": [],
   "source": [
    "SAVE_PATH_PREFIX = \"../log/dueling_dqn\"\n",
    "os.makedirs(SAVE_PATH_PREFIX, exist_ok=True); os.makedirs(f\"{SAVE_PATH_PREFIX}/ckpt\", exist_ok=True)\n",
    "def train_dueling_dqn(env_name, episodes, batch_size, epsilon, min_epsilon, decay_rate):\n",
    "    \"\"\"\n",
    "    使用 Dueling DQN 算法在指定环境中训练，并保存训练数据和模型\n",
    "    \"\"\"\n",
    "    # 创建环境\n",
    "    env = gym.make(env_name)\n",
    "    num_states = env.observation_space.shape[0]\n",
    "    num_actions = env.action_space.n\n",
    "\n",
    "    # 设置随机种子\n",
    "    set_random_seed(SEED)\n",
    "\n",
    "    # 初始化 Dueling DQN 模型\n",
    "    dueling_dqn = DuelingDQN(num_states, num_actions, DEVICE, LR, GAMMA, MEMORY_CAPACITY)\n",
    "\n",
    "    # 初始化 TensorBoard Writer\n",
    "    writer = SummaryWriter(f'{SAVE_PATH_PREFIX}/{env_name}_dueling_dqn')\n",
    "\n",
    "    reward_list = []  # 记录奖励\n",
    "\n",
    "    # 开始训练\n",
    "    for episode in tqdm(range(episodes), desc=f\"Training Dueling DQN on {env_name}\", unit=\"episode\"):\n",
    "        state, _ = env.reset(seed=SEED)\n",
    "        total_reward = 0\n",
    "\n",
    "        while True:\n",
    "            # epsilon-greedy 策略选择动作\n",
    "            action = dueling_dqn.choose_action(state, epsilon)\n",
    "\n",
    "            # 执行动作\n",
    "            next_state, reward, done, _, _ = env.step(action)\n",
    "\n",
    "            # 存储经验\n",
    "            dueling_dqn.memory.set(Data(state, action, reward, next_state, done))\n",
    "\n",
    "            # 累积奖励\n",
    "            total_reward += reward\n",
    "\n",
    "            # 开始学习\n",
    "            if len(dueling_dqn.memory.buffer) >= MIN_CAPACITY:\n",
    "                dueling_dqn.learn(batch_size)\n",
    "\n",
    "            if done:\n",
    "                writer.add_scalar('Reward', total_reward, global_step=episode)\n",
    "                reward_list.append(total_reward)  # 记录奖励\n",
    "                break\n",
    "\n",
    "            state = next_state\n",
    "\n",
    "        # 保存模型\n",
    "        if (episode + 1) % SAVING_ITERATION == 0:\n",
    "            dueling_dqn_path = f\"{SAVE_PATH_PREFIX}/ckpt/dueling_dqn_{env_name}_{episode + 1}.pth\"\n",
    "            torch.save(dueling_dqn.eval_net.state_dict(), dueling_dqn_path)\n",
    "            tqdm.write(f\"Saved model: {dueling_dqn_path}\")\n",
    "\n",
    "        # 更新 epsilon\n",
    "        epsilon = max(min_epsilon, epsilon * decay_rate)\n",
    "\n",
    "    # 保存奖励数据到 CSV 文件\n",
    "    csv_path = f\"{SAVE_PATH_PREFIX}/reward_{env_name}.csv\"\n",
    "    with open(csv_path, mode='w', newline='') as f:\n",
    "        csv_writer = csv.writer(f)  # 使用新的变量名 csv_writer\n",
    "        csv_writer.writerow([\"Episode\", \"Reward\"])\n",
    "        for i, reward in enumerate(reward_list):\n",
    "            csv_writer.writerow([i + 1, reward])\n",
    "    print(f\"Reward data saved to {csv_path}\")\n",
    "    \n",
    "    \n",
    "    env.close()\n",
    "    writer.close()\n"
   ]
  },
  {
   "cell_type": "code",
   "execution_count": null,
   "metadata": {},
   "outputs": [],
   "source": [
    "# 训练 CartPole 环境\n",
    "train_dueling_dqn(\n",
    "    env_name=\"CartPole-v1\",\n",
    "    episodes=EPISODES,\n",
    "    batch_size=BATCH_SIZE,\n",
    "    epsilon=1.0,\n",
    "    min_epsilon=EPSILON,\n",
    "    decay_rate=0.995\n",
    ")\n"
   ]
  },
  {
   "cell_type": "code",
   "execution_count": null,
   "metadata": {},
   "outputs": [],
   "source": [
    "\n",
    "# 训练 MountainCar 环境\n",
    "train_dueling_dqn(\n",
    "    env_name=\"MountainCar-v0\",\n",
    "    episodes=EPISODES,\n",
    "    batch_size=BATCH_SIZE,\n",
    "    epsilon=1.0,\n",
    "    min_epsilon=EPSILON,\n",
    "    decay_rate=0.995\n",
    ")\n"
   ]
  },
  {
   "cell_type": "code",
   "execution_count": null,
   "metadata": {},
   "outputs": [],
   "source": [
    "\n",
    "# 训练 LunarLander 环境\n",
    "train_dueling_dqn(\n",
    "    env_name=\"LunarLander-v3\",\n",
    "    episodes=EPISODES,\n",
    "    batch_size=BATCH_SIZE,\n",
    "    epsilon=1.0,\n",
    "    min_epsilon=EPSILON,\n",
    "    decay_rate=0.995\n",
    ")"
   ]
  },
  {
   "cell_type": "markdown",
   "metadata": {},
   "source": [
    "## Evaluate"
   ]
  },
  {
   "cell_type": "code",
   "execution_count": null,
   "metadata": {},
   "outputs": [],
   "source": [
    "from gymnasium.wrappers import RecordVideo\n",
    "\n",
    "def evaluate_model(env_name, model_path, video_dir, num_episodes=10):\n",
    "    \"\"\"\n",
    "    测试训练好的模型，并录制视频\n",
    "    \"\"\"\n",
    "    # 创建环境并包装为视频录制\n",
    "    env = gym.make(env_name, render_mode='rgb_array')\n",
    "    env = RecordVideo(env, video_dir=video_dir, episode_trigger=lambda x: True)\n",
    "    \n",
    "    num_states = env.observation_space.shape[0]\n",
    "    num_actions = env.action_space.n\n",
    "\n",
    "    # 加载模型\n",
    "    dqn = DQN(num_states, num_actions, DEVICE, LR, GAMMA, MEMORY_CAPACITY)\n",
    "    dqn.eval_net.load_state_dict(torch.load(model_path))\n",
    "    dqn.eval_net.eval()\n",
    "\n",
    "    total_rewards = []\n",
    "\n",
    "    # 测试模型\n",
    "    for episode in range(num_episodes):\n",
    "        state, _ = env.reset(seed=SEED)\n",
    "        total_reward = 0\n",
    "\n",
    "        while True:\n",
    "            # 贪婪策略选择动作\n",
    "            action = dqn.choose_action(state, epsilon=0.0)\n",
    "            next_state, reward, done, _, _ = env.step(action)\n",
    "            total_reward += reward\n",
    "\n",
    "            if done:\n",
    "                total_rewards.append(total_reward)\n",
    "                break\n",
    "            state = next_state\n",
    "\n",
    "    env.close()\n",
    "\n",
    "    # 打印平均奖励\n",
    "    avg_reward = np.mean(total_rewards)\n",
    "    print(f\"Average reward over {num_episodes} episodes: {avg_reward}\")\n",
    "    return avg_reward"
   ]
  }
 ],
 "metadata": {
  "kernelspec": {
   "display_name": "rl2",
   "language": "python",
   "name": "python3"
  },
  "language_info": {
   "codemirror_mode": {
    "name": "ipython",
    "version": 3
   },
   "file_extension": ".py",
   "mimetype": "text/x-python",
   "name": "python",
   "nbconvert_exporter": "python",
   "pygments_lexer": "ipython3",
   "version": "3.9.21"
  }
 },
 "nbformat": 4,
 "nbformat_minor": 2
}
